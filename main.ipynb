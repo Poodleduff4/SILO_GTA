{
 "cells": [
  {
   "cell_type": "code",
   "execution_count": 1,
   "metadata": {},
   "outputs": [],
   "source": [
    "import pandas as pd\n",
    "import geopandas as gpd\n",
    "import numpy as np\n",
    "from scipy.stats import truncnorm\n",
    "from numba import jit, njit\n",
    "from shapely import MultiPoint, Point\n",
    "from shapely.ops import nearest_points"
   ]
  },
  {
   "cell_type": "markdown",
   "metadata": {},
   "source": [
    "Read dwelling types"
   ]
  },
  {
   "cell_type": "code",
   "execution_count": 2,
   "metadata": {},
   "outputs": [],
   "source": [
    "dwellingTypes = pd.read_csv('./Data/DwellingTypesByZone2006.csv')"
   ]
  },
  {
   "cell_type": "markdown",
   "metadata": {},
   "source": [
    "Read Zonal Profile data"
   ]
  },
  {
   "cell_type": "code",
   "execution_count": 3,
   "metadata": {},
   "outputs": [],
   "source": [
    "profileData = pd.read_csv('./Data/GTAProfileData.csv')"
   ]
  },
  {
   "cell_type": "markdown",
   "metadata": {},
   "source": [
    "Create ZoneSystem file which contains the zones to be used in the sim"
   ]
  },
  {
   "cell_type": "code",
   "execution_count": 4,
   "metadata": {},
   "outputs": [],
   "source": [
    "zoneSystem = pd.DataFrame(data=profileData['DAUID'], columns=['DAUID'], dtype=str)\n",
    "zoneSystem = zoneSystem[zoneSystem['DAUID'].str.len()==8]"
   ]
  },
  {
   "cell_type": "markdown",
   "metadata": {},
   "source": [
    "Read Shapefile Zones"
   ]
  },
  {
   "cell_type": "code",
   "execution_count": 5,
   "metadata": {},
   "outputs": [],
   "source": [
    "zoneShape:gpd.GeoDataFrame = gpd.read_file('./Data/TorontoZoneShape/TorontoZones_26917.shp')\n",
    "zoneShape = zoneShape[zoneShape['DAUID'].astype(str).isin(zoneSystem['DAUID'])]"
   ]
  },
  {
   "cell_type": "markdown",
   "metadata": {},
   "source": [
    "Create Zone Dataframe that holds all data"
   ]
  },
  {
   "cell_type": "markdown",
   "metadata": {},
   "source": [
    "zoneData = pd.DataFrame(columns=['DAUID', 'Population', 'Employment rate', 'Area', \"Total - Structural type of dwelling\"])"
   ]
  },
  {
   "cell_type": "markdown",
   "metadata": {},
   "source": [
    "for i, zone in zoneSystem.iterrows():\n",
    "    numDwellings=200\n",
    "    population = 400\n",
    "    try:numDwellings = dwellingTypes.loc[dwellingTypes['Geography'].astype(str)==zone['DAUID'], 'Total - Structural type of dwelling'].iloc[0]\n",
    "    except:pass\n",
    "    try:population = int(profileData.loc[profileData['DAUID'].astype(str)==zone['DAUID'], \"Population\"].iloc[0])\n",
    "    except:pass\n",
    "\n",
    "    zoneData.loc[len(zoneData)] = [zone['DAUID'], population, profileData.loc[profileData['DAUID'].astype(str)==zone['DAUID'], \"Employment rate\"].iloc[0], float(zoneShape.loc[zoneShape['DAUID'].astype(str)==zone['DAUID'], 'geometry'].iloc[0].area), numDwellings]"
   ]
  },
  {
   "cell_type": "markdown",
   "metadata": {},
   "source": [
    "zoneData.to_csv('./Data/combinedZoneData.csv', index=False)"
   ]
  },
  {
   "cell_type": "markdown",
   "metadata": {},
   "source": [
    "<span style=\"font-size:5em;\">CREATE PERSONS</span>"
   ]
  },
  {
   "cell_type": "code",
   "execution_count": 6,
   "metadata": {},
   "outputs": [],
   "source": [
    "zoneData = pd.read_csv('./Data/combinedZoneData.csv')"
   ]
  },
  {
   "cell_type": "markdown",
   "metadata": {},
   "source": [
    "Income generator"
   ]
  },
  {
   "cell_type": "code",
   "execution_count": 7,
   "metadata": {},
   "outputs": [],
   "source": [
    "def get_truncated_normal(mean=0, sd=1, low=0, upp=10):\n",
    "    return truncnorm(\n",
    "        (low - mean) / sd, (upp - mean) / sd, loc=mean, scale=sd)\n"
   ]
  },
  {
   "cell_type": "code",
   "execution_count": 8,
   "metadata": {},
   "outputs": [],
   "source": [
    "salary_distribution_employed = get_truncated_normal(mean=70000, sd=40000, low=30000, upp=200000)\n",
    "salary_distribution_retired = get_truncated_normal(mean=40000, sd=20000, low=15000, upp=70000)"
   ]
  },
  {
   "cell_type": "code",
   "execution_count": 9,
   "metadata": {},
   "outputs": [],
   "source": [
    "totalPersons = zoneData['Population'].astype(float).sum()"
   ]
  },
  {
   "cell_type": "code",
   "execution_count": 10,
   "metadata": {},
   "outputs": [],
   "source": [
    "employment_incomes = salary_distribution_employed.rvs(int(totalPersons*.8))\n",
    "retired_incomes = salary_distribution_retired.rvs(int(totalPersons*.4))"
   ]
  },
  {
   "cell_type": "markdown",
   "metadata": {},
   "source": [
    "<h3>synthesize persons<h3/>"
   ]
  },
  {
   "cell_type": "markdown",
   "metadata": {},
   "source": [
    "initial person counts per zone"
   ]
  },
  {
   "cell_type": "code",
   "execution_count": 11,
   "metadata": {},
   "outputs": [],
   "source": [
    "personZoneCounts = np.empty([0,2], dtype=np.int64)\n",
    "for i, zone in zoneData.iterrows():\n",
    "    personZoneCounts = np.r_[personZoneCounts, [[np.float64(zone['DAUID']), np.float64(zone['Population'])]]]"
   ]
  },
  {
   "cell_type": "code",
   "execution_count": 12,
   "metadata": {},
   "outputs": [
    {
     "data": {
      "text/plain": [
       "array([[3.5190002e+07, 7.9000000e+02],\n",
       "       [3.5190003e+07, 3.8400000e+02],\n",
       "       [3.5190004e+07, 6.8700000e+02],\n",
       "       ...,\n",
       "       [3.5250973e+07, 4.9900000e+02],\n",
       "       [3.5250974e+07, 4.7700000e+02],\n",
       "       [3.5250975e+07, 4.7600000e+02]])"
      ]
     },
     "execution_count": 12,
     "metadata": {},
     "output_type": "execute_result"
    }
   ],
   "source": [
    "personZoneCounts"
   ]
  },
  {
   "cell_type": "markdown",
   "metadata": {},
   "source": [
    "Create numba function to synthesize persons"
   ]
  },
  {
   "cell_type": "code",
   "execution_count": 13,
   "metadata": {},
   "outputs": [],
   "source": [
    "@njit\n",
    "def createPersons(personCounts):\n",
    "    p = np.empty((0,10))\n",
    "    for zoneNum in range(personCounts.shape[0]):\n",
    "        numPeopleInZone = personCounts[zoneNum][1]\n",
    "        for person in range(numPeopleInZone):\n",
    "            age = np.random.randint(0,100)\n",
    "            gender = np.random.randint(0,2)\n",
    "            # 0:SINGLE 1:MARRIED 2:CHILD\n",
    "            relationship = 2 if age < 18 else np.random.randint(0, 2)\n",
    "            occupation = 0 if age < 4 \\\n",
    "                    else 4 if age > 65 \\\n",
    "                    else 3 if age < 22 \\\n",
    "                    else 1 if np.random.random() < .70 \\\n",
    "                    else 2\n",
    "            occupation_type = 1\n",
    "            workplace = -1\n",
    "            income=-1\n",
    "            if occupation==1:\n",
    "                income = employment_incomes[np.random.randint(0,int(totalPersons*.9))]\n",
    "            elif occupation==4:\n",
    "                income = retired_incomes[np.random.randint(0,int(totalPersons*.1))]\n",
    "            \n",
    "            schoolplace=-1\n",
    "            \n",
    "            p = np.append(p, np.array([[personZoneCounts[zoneNum][0], -1, age, gender, relationship, occupation, occupation_type, workplace, income, schoolplace]]), axis=0)\n",
    "        print(zoneNum)\n",
    "    return p\n",
    "    "
   ]
  },
  {
   "cell_type": "markdown",
   "metadata": {},
   "source": [
    "Create dataframe of persons using the c-compiled function above to create the data"
   ]
  },
  {
   "cell_type": "code",
   "execution_count": 14,
   "metadata": {},
   "outputs": [
    {
     "ename": "",
     "evalue": "",
     "output_type": "error",
     "traceback": [
      "\u001b[1;31mThe Kernel crashed while executing code in the current cell or a previous cell. \n",
      "\u001b[1;31mPlease review the code in the cell(s) to identify a possible cause of the failure. \n",
      "\u001b[1;31mClick <a href='https://aka.ms/vscodeJupyterKernelCrash'>here</a> for more info. \n",
      "\u001b[1;31mView Jupyter <a href='command:jupyter.viewOutput'>log</a> for further details."
     ]
    }
   ],
   "source": [
    "persons = pd.DataFrame(data=createPersons(personZoneCounts), columns=['id', 'hhId', 'age', 'gender', 'relationship', 'occupation', 'occupation_type', 'workplace', 'income', 'schoolplace'])"
   ]
  },
  {
   "cell_type": "markdown",
   "metadata": {},
   "source": [
    "Clean up varaibles"
   ]
  },
  {
   "cell_type": "code",
   "execution_count": null,
   "metadata": {},
   "outputs": [],
   "source": [
    "# del employment_incomes\n",
    "# del retired_incomes\n",
    "# del personZoneCounts\n",
    "# del profileData\n",
    "# del dwellingTypes"
   ]
  }
 ],
 "metadata": {
  "kernelspec": {
   "display_name": ".venv",
   "language": "python",
   "name": "python3"
  },
  "language_info": {
   "codemirror_mode": {
    "name": "ipython",
    "version": 3
   },
   "file_extension": ".py",
   "mimetype": "text/x-python",
   "name": "python",
   "nbconvert_exporter": "python",
   "pygments_lexer": "ipython3",
   "version": "3.12.4"
  }
 },
 "nbformat": 4,
 "nbformat_minor": 2
}
