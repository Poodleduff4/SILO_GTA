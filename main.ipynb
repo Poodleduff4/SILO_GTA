{
 "cells": [
  {
   "cell_type": "code",
   "execution_count": 1,
   "metadata": {},
   "outputs": [],
   "source": [
    "import pandas as pd\n",
    "import geopandas as gpd\n",
    "import numpy as np\n",
    "from scipy.stats import truncnorm\n",
    "from numba import jit, njit\n",
    "from shapely import MultiPoint, Point\n",
    "from shapely.ops import nearest_points"
   ]
  },
  {
   "cell_type": "markdown",
   "metadata": {},
   "source": [
    "Read dwelling types"
   ]
  },
  {
   "cell_type": "code",
   "execution_count": 2,
   "metadata": {},
   "outputs": [],
   "source": [
    "dwellingTypes = pd.read_csv('./Data/DwellingTypesByZone2006.csv')"
   ]
  },
  {
   "cell_type": "markdown",
   "metadata": {},
   "source": [
    "Read Zonal Profile data"
   ]
  },
  {
   "cell_type": "code",
   "execution_count": 3,
   "metadata": {},
   "outputs": [],
   "source": [
    "profileData = pd.read_csv('./Data/GTAProfileData.csv')"
   ]
  },
  {
   "cell_type": "markdown",
   "metadata": {},
   "source": [
    "Create ZoneSystem file which contains the zones to be used in the sim"
   ]
  },
  {
   "cell_type": "code",
   "execution_count": 4,
   "metadata": {},
   "outputs": [],
   "source": [
    "zoneSystem = pd.DataFrame(data=profileData['DAUID'], columns=['DAUID'], dtype=str)\n",
    "zoneSystem = zoneSystem[zoneSystem['DAUID'].str.len()==8]"
   ]
  },
  {
   "cell_type": "markdown",
   "metadata": {},
   "source": [
    "Read Shapefile Zones"
   ]
  },
  {
   "cell_type": "code",
   "execution_count": 5,
   "metadata": {},
   "outputs": [],
   "source": [
    "zoneShape:gpd.GeoDataFrame = gpd.read_file('./Data/TorontoZoneShape/TorontoZones_26917.shp')\n",
    "zoneShape = zoneShape[zoneShape['DAUID'].astype(str).isin(zoneSystem['DAUID'])]"
   ]
  },
  {
   "cell_type": "markdown",
   "metadata": {},
   "source": [
    "Create Zone Dataframe that holds all data"
   ]
  },
  {
   "cell_type": "markdown",
   "metadata": {},
   "source": [
    "zoneData = pd.DataFrame(columns=['DAUID', 'Population', 'Employment rate', 'Area', \"Total - Structural type of dwelling\"])"
   ]
  },
  {
   "cell_type": "markdown",
   "metadata": {},
   "source": [
    "for i, zone in zoneSystem.iterrows():\n",
    "    numDwellings=200\n",
    "    population = 400\n",
    "    try:numDwellings = dwellingTypes.loc[dwellingTypes['Geography'].astype(str)==zone['DAUID'], 'Total - Structural type of dwelling'].iloc[0]\n",
    "    except:pass\n",
    "    try:population = int(profileData.loc[profileData['DAUID'].astype(str)==zone['DAUID'], \"Population\"].iloc[0])\n",
    "    except:pass\n",
    "\n",
    "    zoneData.loc[len(zoneData)] = [zone['DAUID'], population, profileData.loc[profileData['DAUID'].astype(str)==zone['DAUID'], \"Employment rate\"].iloc[0], float(zoneShape.loc[zoneShape['DAUID'].astype(str)==zone['DAUID'], 'geometry'].iloc[0].area), numDwellings]"
   ]
  },
  {
   "cell_type": "markdown",
   "metadata": {},
   "source": [
    "zoneData.to_csv('./Data/combinedZoneData.csv', index=False)"
   ]
  },
  {
   "cell_type": "markdown",
   "metadata": {},
   "source": [
    "<span style=\"font-size:5em;\">CREATE PERSONS</span>"
   ]
  },
  {
   "cell_type": "code",
   "execution_count": 6,
   "metadata": {},
   "outputs": [],
   "source": [
    "zoneData = pd.read_csv('./Data/combinedZoneData.csv')"
   ]
  },
  {
   "cell_type": "markdown",
   "metadata": {},
   "source": [
    "Income generator"
   ]
  },
  {
   "cell_type": "code",
   "execution_count": 7,
   "metadata": {},
   "outputs": [],
   "source": [
    "def get_truncated_normal(mean=0, sd=1, low=0, upp=10):\n",
    "    return truncnorm(\n",
    "        (low - mean) / sd, (upp - mean) / sd, loc=mean, scale=sd)\n"
   ]
  },
  {
   "cell_type": "code",
   "execution_count": 8,
   "metadata": {},
   "outputs": [],
   "source": [
    "salary_distribution_employed = get_truncated_normal(mean=70000, sd=40000, low=30000, upp=200000)\n",
    "salary_distribution_retired = get_truncated_normal(mean=40000, sd=20000, low=15000, upp=70000)"
   ]
  },
  {
   "cell_type": "code",
   "execution_count": 9,
   "metadata": {},
   "outputs": [],
   "source": [
    "totalPersons = zoneData['Population'].astype(float).sum()"
   ]
  },
  {
   "cell_type": "code",
   "execution_count": 10,
   "metadata": {},
   "outputs": [],
   "source": [
    "employment_incomes = salary_distribution_employed.rvs(int(totalPersons*.8))\n",
    "retired_incomes = salary_distribution_retired.rvs(int(totalPersons*.4))"
   ]
  },
  {
   "cell_type": "markdown",
   "metadata": {},
   "source": [
    "<h3>synthesize persons<h3/>"
   ]
  },
  {
   "cell_type": "markdown",
   "metadata": {},
   "source": [
    "initial person counts per zone"
   ]
  },
  {
   "cell_type": "code",
   "execution_count": 11,
   "metadata": {},
   "outputs": [],
   "source": [
    "personZoneCounts = np.empty([0,2], dtype=np.float64)\n",
    "for i, zone in zoneData.iterrows():\n",
    "    personZoneCounts = np.r_[personZoneCounts, [[np.float64(zone['DAUID']), np.float64(zone['Population'])]]]"
   ]
  },
  {
   "cell_type": "code",
   "execution_count": 12,
   "metadata": {},
   "outputs": [
    {
     "data": {
      "text/plain": [
       "array([[3.5190002e+07, 7.9000000e+02],\n",
       "       [3.5190003e+07, 3.8400000e+02],\n",
       "       [3.5190004e+07, 6.8700000e+02],\n",
       "       ...,\n",
       "       [3.5250973e+07, 4.9900000e+02],\n",
       "       [3.5250974e+07, 4.7700000e+02],\n",
       "       [3.5250975e+07, 4.7600000e+02]])"
      ]
     },
     "execution_count": 12,
     "metadata": {},
     "output_type": "execute_result"
    }
   ],
   "source": [
    "personZoneCounts"
   ]
  },
  {
   "cell_type": "markdown",
   "metadata": {},
   "source": [
    "Create numba function to synthesize persons"
   ]
  },
  {
   "cell_type": "code",
   "execution_count": 13,
   "metadata": {},
   "outputs": [],
   "source": [
    "@jit(nopython=True)\n",
    "def createPersons(personCounts):\n",
    "    p = np.empty((0,10))\n",
    "    for zoneNum in range(personCounts.shape[0]):\n",
    "        print(zoneNum)\n",
    "        numPeopleInZone = personCounts[zoneNum][1]\n",
    "        for person in range(numPeopleInZone):\n",
    "            age = np.random.randint(0,100)\n",
    "            gender = np.random.randint(0,2)\n",
    "            # 0:SINGLE 1:MARRIED 2:CHILD\n",
    "            relationship = 2 if age < 18 else np.random.randint(0, 2)\n",
    "            occupation = 0 if age < 4 \\\n",
    "                    else 4 if age > 65 \\\n",
    "                    else 3 if age < 22 \\\n",
    "                    else 1 if np.random.random() < .70 \\\n",
    "                    else 2\n",
    "            occupation_type = 1\n",
    "            workplace = -1\n",
    "            income=-1\n",
    "            if occupation==1:\n",
    "                income = employment_incomes[np.random.randint(0,int(totalPersons*.8))]\n",
    "            elif occupation==4:\n",
    "                income = retired_incomes[np.random.randint(0,int(totalPersons*.4))]\n",
    "            \n",
    "            schoolplace=-1\n",
    "            \n",
    "            p = np.append(p, np.array([[int(personZoneCounts[zoneNum][0]), -1, age, gender, relationship, occupation, occupation_type, workplace, income, schoolplace]]), axis=0)\n",
    "    return p\n",
    "    "
   ]
  },
  {
   "cell_type": "markdown",
   "metadata": {},
   "source": [
    "Create dataframe of persons using the c-compiled function above to create the data"
   ]
  },
  {
   "cell_type": "code",
   "execution_count": 14,
   "metadata": {},
   "outputs": [
    {
     "name": "stdout",
     "output_type": "stream",
     "text": [
      "0\n",
      "1\n",
      "2\n",
      "3\n",
      "4\n",
      "5\n",
      "6\n",
      "7\n",
      "8\n",
      "9\n",
      "10\n",
      "11\n",
      "12\n",
      "13\n",
      "14\n",
      "15\n",
      "16\n",
      "17\n",
      "18\n",
      "19\n",
      "20\n",
      "21\n",
      "22\n",
      "23\n",
      "24\n",
      "25\n",
      "26\n",
      "27\n",
      "28\n",
      "29\n",
      "30\n",
      "31\n",
      "32\n",
      "33\n",
      "34\n",
      "35\n",
      "36\n",
      "37\n",
      "38\n",
      "39\n",
      "40\n",
      "41\n",
      "42\n",
      "43\n",
      "44\n",
      "45\n",
      "46\n",
      "47\n",
      "48\n",
      "49\n",
      "50\n",
      "51\n",
      "52\n",
      "53\n",
      "54\n",
      "55\n",
      "56\n",
      "57\n",
      "58\n",
      "59\n",
      "60\n",
      "61\n",
      "62\n",
      "63\n",
      "64\n",
      "65\n",
      "66\n",
      "67\n",
      "68\n",
      "69\n",
      "70\n",
      "71\n",
      "72\n",
      "73\n",
      "74\n",
      "75\n",
      "76\n",
      "77\n",
      "78\n",
      "79\n",
      "80\n",
      "81\n",
      "82\n",
      "83\n",
      "84\n",
      "85\n",
      "86\n",
      "87\n",
      "88\n",
      "89\n",
      "90\n",
      "91\n",
      "92\n",
      "93\n",
      "94\n",
      "95\n",
      "96\n",
      "97\n",
      "98\n",
      "99\n",
      "100\n",
      "101\n",
      "102\n",
      "103\n",
      "104\n",
      "105\n",
      "106\n",
      "107\n",
      "108\n",
      "109\n",
      "110\n",
      "111\n",
      "112\n",
      "113\n",
      "114\n",
      "115\n",
      "116\n",
      "117\n",
      "118\n",
      "119\n",
      "120\n",
      "121\n",
      "122\n",
      "123\n",
      "124\n",
      "125\n",
      "126\n",
      "127\n",
      "128\n",
      "129\n",
      "130\n",
      "131\n",
      "132\n",
      "133\n",
      "134\n",
      "135\n",
      "136\n",
      "137\n",
      "138\n",
      "139\n",
      "140\n",
      "141\n",
      "142\n",
      "143\n",
      "144\n",
      "145\n"
     ]
    }
   ],
   "source": [
    "persons = pd.DataFrame(data=createPersons(personZoneCounts), columns=['id', 'hhId', 'age', 'gender', 'relationship', 'occupation', 'occupation_type', 'workplace', 'income', 'schoolplace'])"
   ]
  },
  {
   "cell_type": "markdown",
   "metadata": {},
   "source": [
    "Clean up varaibles"
   ]
  },
  {
   "cell_type": "code",
   "execution_count": null,
   "metadata": {},
   "outputs": [],
   "source": [
    "# del employment_incomes\n",
    "# del retired_incomes\n",
    "# del personZoneCounts\n",
    "# del profileData\n",
    "# del dwellingTypes"
   ]
  }
 ],
 "metadata": {
  "kernelspec": {
   "display_name": ".venv",
   "language": "python",
   "name": "python3"
  },
  "language_info": {
   "codemirror_mode": {
    "name": "ipython",
    "version": 3
   },
   "file_extension": ".py",
   "mimetype": "text/x-python",
   "name": "python",
   "nbconvert_exporter": "python",
   "pygments_lexer": "ipython3",
   "version": "3.12.4"
  }
 },
 "nbformat": 4,
 "nbformat_minor": 2
}
