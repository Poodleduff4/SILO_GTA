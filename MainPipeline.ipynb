{
 "cells": [
  {
   "cell_type": "code",
   "execution_count": 1,
   "metadata": {},
   "outputs": [],
   "source": [
    "import pandas as pd\n",
    "import numpy as np\n",
    "from scipy.stats import truncnorm\n",
    "import re\n",
    "import random\n",
    "import geopandas as gpd\n",
    "from numba import jit, njit\n",
    "from shapely import MultiPoint, Point\n",
    "from shapely.ops import nearest_points"
   ]
  },
  {
   "cell_type": "markdown",
   "metadata": {},
   "source": [
    "READ STREEN NETWORK NODES FOR POSITION SNAPPING"
   ]
  },
  {
   "cell_type": "code",
   "execution_count": null,
   "metadata": {},
   "outputs": [],
   "source": [
    "streetNetwork = gpd.read_file('c:/Users/Administrator/Documents/pt2network/streetNetwork.gpkg')\n",
    "streetNetwork_nodes = gpd.read_file('c:/Users/Administrator/Documents/pt2network/streetNetwork_nodes.gpkg')\n",
    "roadPoints = streetNetwork_nodes['geometry']\n",
    "roadNodes = MultiPoint(roadPoints)"
   ]
  },
  {
   "cell_type": "markdown",
   "metadata": {},
   "source": [
    "<span style=\"font-size:5em;\">CREATE PERSONS</span>"
   ]
  },
  {
   "cell_type": "code",
   "execution_count": 2,
   "metadata": {},
   "outputs": [],
   "source": [
    "def get_truncated_normal(mean=0, sd=1, low=0, upp=10):\n",
    "    return truncnorm(\n",
    "        (low - mean) / sd, (upp - mean) / sd, loc=mean, scale=sd)\n"
   ]
  },
  {
   "cell_type": "code",
   "execution_count": 3,
   "metadata": {},
   "outputs": [
    {
     "name": "stderr",
     "output_type": "stream",
     "text": [
      "/var/folders/7p/74395j5j7jg7r8chb_tyb6s80000gn/T/ipykernel_66796/1360461993.py:1: DtypeWarning: Columns (1,2,3,4,5,6,7,8,9,10,11,12,13,14,15,16,17,18,19,20,21,22,23,24,25,26,27,28,29,30,31,32,33,34,35,36,37,38,39,40,41,42,43,44,45,46,47,48,49,50,51,52,53,54,55,56,57,58,59,60,61,62,63,64,65,66,67,68,69,70,71,72,73,74,75,76,77,78,79,80,81,82,83,84,85,86,87,88,89,90,91,92,93,94,95,96,97,98,99,100,101,102,103,104,105,106,107,108,109,110,111,112,113,114,115,116,117,118,119,120,121,122,123,124,125,126,127,128,129,130,131,132,133,134,135,136,137,138,139,140,141,142,143,144,145,146,147,148,149,150,151,152,153,154,155,156,157,158,159,160,161,162,163,164,165,166,167,168,169,170,171,172,173,174,175,176,177,178,179,180,181,182,183,184,185,186,187,188,189,190,191,192,193,194,195,196,197,198,199,200,201,202,203,204,205,206,207,208,209,210,211,212,213,214,215,216,217,218,219,220,221,222,223,224,225,226,227,228,229,230,231,232,233,234,235,236,237,238,239,240,241,242,243,244,245,246,247,248,249,250,251,252,253,254,255,256,257,258,259,260,261,262,263,264,265,266,267,268,269,270,271,272,273,274,275,276,277,278,279,280,281,282,283,284,285,286,287,288,289,290,291,292,293,294,295,296,297,298,299,300,301,302,303,304,305,306,307,308,309,310,311,312,313,314,315,316,317,318,319,320,321,322,323,324,325,326,327,328,329,330,331,332,333,334,335,336,337,338,339,340,341,342,343,344,345,346,347,348,349,350,351,352,353,354,355,356,357,358,359,360,361,362,363,364,365,366,367,368,369,370,371,372,373,374,375,376,377,378,379,380,381,382,383,384,385,386,387,388,389,390,391,392,393,394,395,396,397,398,399,400,401,402,403,404,405,406,407,408,409,410,411,412,413,414,415,416,417,418,419,420,421,422,423,424,425,426,427,428,429,430,431,432,433,434,435,436,437,438,439,440,441,442,443,444,445,446,447,448,449,450,451,452,453,454,455,456,457,458,459,460,461,462,463,464,465,466,467,468,469,470,471,472,473,474,475,476,477,478,479,480,481,482,483,484,485,486,487,488,489,490,491,492,493,494,495,496,497,498,499,500,501,502,503,504,505,506,507,508,509,510,511,512,513,514,515,516,517,518,519,520,521,522,523,524,525,526,527,528,529,530,531,532,533,534,535,536,537,538,539,540,541,542,543,544,545,546,547,548,549,550,551,552,553,554,555,556,557,558,559,560,561,562,563,564,565,566,567,568,569,570,571,572,573,574,575,576,577,578,579,580,581,582,583,584,585,586,587,588,589,590,591,592,593,594,595,596,597,598,599,600,601,602,603,604,605,606,607,608,609,610,611,612,613,614,615,616,617,618,619,620,621,622,623,624,625,626,627,628,629,630,631,632,633,634,635,636,637,638,639,640,641,642,643,644,645,646,647,648,649,650,651,652,653,654,655,656,657,658,659,660,661,662,663,664,665,666,667,668,669,670,671,672,673,674,675,676,677,678,679,680,681,682,683,684,685,686,687,688,689,690,691,692,693,694,695,696,697,698,699,700,701,702,703,704,705,706,707,708,709,710,711,712,713,714,715,716,717,718,719,720,721,722,723,724,725,726,727,728,729,730,731,732,733,734,735,736,737,738,739,740,741,742,743,744,745,746,747,748,749,750,751,752,753,754,755,756,757,758,759,760,761,762,763,764,765,766,767,768,769,770,771,772,773,774,775,776,777,778,779,780,781,782,783,784,785,786,787,788,789,790,791,792,793,794,795,796,797,798,799,800,801,802,803,804,805,806,807,808,809,810,811,812,813,814,815,816,817,818,819,820,821,822,823,824,825,826,827,828,829,830,831,832,833,834,835,836,837,838,839,840,841,842,843,844,845,846,847,848,849,850,851,852,853,854,855,856,857,858,859,860,861,862,863,864,865,866,867,868,869,870,871,872,873,874,875,876,877,878,879,880,881,882,883,884,885,886,887,888,889,890,891,892,893,894,895,896,897,898,899,900,901,902,903,904,905,906,907,908,909,910,911,912,913,914,915,916,917,918,919,920,921,922,923,924,925,926,927,928,929,930,931,932,933,934,935,936,937,938,939,940,941,942,943,944,945,946,947,948,949,950,951,952,953,954,955,956,957,958,959,960,961,962,963,964,965,966,967,968,969,970,971,972,973,974,975,976,977,978,979,980,981,982,983,984,985,986,987,988,989,990,991,992,993,994,995,996,997,998,999,1000,1001,1002,1003,1004,1005,1006,1007,1008,1009,1010,1011,1012,1013,1014,1015,1016,1017,1018,1019,1020,1021,1022,1023,1024,1025,1026,1027,1028,1029,1030,1031,1032,1033,1034,1035,1036,1037,1038,1039,1040,1041,1042,1043,1044,1045,1046,1047,1048,1049,1050,1051,1052,1053,1054,1055,1056,1057,1058,1059,1060,1061,1062,1063,1064,1065,1066,1067,1068,1069,1070,1071,1072,1073,1074,1075,1076,1077,1078,1079,1080,1081,1082,1083,1084,1085,1086,1087,1088,1089,1090,1091,1092,1093,1094,1095,1096,1097,1098,1099,1100,1101,1102,1103,1104,1105,1106,1107,1108,1109,1110,1111,1112,1113,1114,1115,1116,1117,1118,1119,1120,1121,1122,1123,1124,1125,1126,1127,1128,1129,1130,1131,1132,1133,1134,1135,1136,1137,1138,1139,1140,1141,1142,1143,1144,1145,1146,1147,1148,1149,1150,1151,1152,1153,1154,1155,1156,1157,1158,1159,1160,1161,1162,1163,1164,1165,1166,1167,1168,1169,1170,1171,1172,1173,1174,1175,1176,1177,1178,1179,1180,1181,1182,1183,1184,1185,1186,1187,1188,1189,1190,1191,1192,1193,1194,1195,1196,1197,1198,1199,1200,1201,1202,1203,1204,1205,1206,1207,1208,1209,1210,1211,1212,1213,1214,1215,1216,1217,1218,1219,1220,1221,1222,1223,1224,1225,1226,1227,1228,1229,1230,1231,1232,1233,1234,1235,1236,1237,1238,1239,1240,1241,1242,1243,1244,1245,1246,1247,1248,1249,1250,1251,1252,1253,1254,1255,1256,1257,1258,1259,1260,1261,1262,1263,1264,1265,1266,1267,1268,1269,1270,1271,1272,1273,1274,1275,1276,1277,1278,1279,1280,1281,1282,1283,1284,1285,1286,1287,1288,1289,1290,1291) have mixed types. Specify dtype option on import or set low_memory=False.\n",
      "  profileData = pd.read_csv(\"/Users/lukeguardino/Documents/SILO_crap/MontrealZones/ProfileDataByZone3.csv\")\n"
     ]
    }
   ],
   "source": [
    "profileData = pd.read_csv(\"/Users/lukeguardino/Documents/SILO_crap/MontrealZones/ProfileDataByZone3.csv\")"
   ]
  },
  {
   "cell_type": "code",
   "execution_count": 4,
   "metadata": {},
   "outputs": [],
   "source": [
    "zoneSystem = pd.read_csv(\"/Users/lukeguardino/Documents/SILO_crap/MontrealZones/SkimsTravelTimes/zoneSystem.csv\", usecols=['Zone', 'Area'])"
   ]
  },
  {
   "cell_type": "code",
   "execution_count": 5,
   "metadata": {},
   "outputs": [],
   "source": [
    "profileData = profileData[(profileData['Population']!='-') & (profileData['Geography'].isin(zoneSystem['Zone']))]\n",
    "totalPersons = profileData['Population'].astype(int).sum()"
   ]
  },
  {
   "cell_type": "code",
   "execution_count": 6,
   "metadata": {},
   "outputs": [],
   "source": [
    "salary_distribution_employed = get_truncated_normal(mean=70000, sd=40000, low=30000, upp=200000)\n",
    "salary_distribution_retired = get_truncated_normal(mean=40000, sd=20000, low=15000, upp=70000)"
   ]
  },
  {
   "cell_type": "code",
   "execution_count": 7,
   "metadata": {},
   "outputs": [],
   "source": [
    "employment_incomes = salary_distribution_employed.rvs(int(totalPersons*.9))\n",
    "retired_incomes = salary_distribution_retired.rvs(int(totalPersons*.1))"
   ]
  },
  {
   "cell_type": "markdown",
   "metadata": {},
   "source": [
    "Nationalities"
   ]
  },
  {
   "cell_type": "code",
   "execution_count": null,
   "metadata": {},
   "outputs": [],
   "source": [
    "# taken from wikipedia general nationality distribution\n",
    "tmp = \"\"\"Canadian 11,135,965\n",
    "English\t6,320,085\n",
    "Scottish\t4,799,010\n",
    "French\t4,670,595\n",
    "Irish\t4,627,000\n",
    "German\t3,322,405\n",
    "Chinese\t1,769,195\n",
    "Italian\t1,587,970\n",
    "First Nations\t1,525,565\n",
    "Indian\t1,374,710\n",
    "Ukrainian\t1,359,655\n",
    "Dutch\t1,111,655\n",
    "Polish\t1,106,585\n",
    "Filipino 837,130\"\"\"\n",
    "\n",
    "countries = tmp.replace('\\t', ' ').replace(',', '').split('\\n')\n",
    "nationalities = {}\n",
    "total_nationalities_pop = 0\n",
    "for i in countries:\n",
    "    ind = re.search('[0-9]', i).span()[0]\n",
    "    nationalities[i[:ind-1]] = 0.0\n",
    "    total_nationalities_pop += int(i[ind:])\n",
    "\n",
    "for i in countries:\n",
    "    ind = re.search('[0-9]', i).span()[0]\n",
    "    nationalities[i[:ind-1]] = int(i[ind:])/total_nationalities_pop\n",
    "\n",
    "print(nationalities)\n",
    "nationalities_list = random.choices(list(nationalities.keys()), weights=list(nationalities.values()),k=persons.shape[0])"
   ]
  },
  {
   "cell_type": "markdown",
   "metadata": {},
   "source": [
    "Synthesize persons with initial data"
   ]
  },
  {
   "cell_type": "code",
   "execution_count": null,
   "metadata": {},
   "outputs": [],
   "source": [
    "persons = pd.DataFrame(columns=['id', 'hhId', 'age', 'gender', 'relationship', 'occupation', 'occupation_type', 'workplace', 'income', 'schoolplace', 'nationality'])\n",
    "person_nats = persons['nationality']\n",
    "p_cols = persons.columns[:-1]\n",
    "p = lambda x: p_cols.get_loc(x)\n",
    "persons:np.ndarray = persons[p_cols].values\n",
    "\n",
    "# convert relationship to number value\n",
    "for i in range(len(persons)):\n",
    "    rel = persons[i][4]\n",
    "    res = -1\n",
    "    if rel=='SINGLE': \n",
    "        res=0\n",
    "    elif rel=='MARRIED': res=1\n",
    "    elif rel=='CHILD': res=2\n",
    "    persons[i][4] = res\n",
    "persons = persons.astype(np.int32)"
   ]
  },
  {
   "cell_type": "markdown",
   "metadata": {},
   "source": [
    "zone population counts in numpy format for numba"
   ]
  },
  {
   "cell_type": "code",
   "execution_count": 8,
   "metadata": {},
   "outputs": [
    {
     "name": "stdout",
     "output_type": "stream",
     "text": [
      "No population for zone:  24640126.0\n",
      "No population for zone:  24650247.0\n",
      "No population for zone:  24650374.0\n",
      "No population for zone:  24660044.0\n",
      "No population for zone:  24661260.0\n",
      "No population for zone:  24661280.0\n",
      "No population for zone:  24661282.0\n",
      "No population for zone:  24661285.0\n",
      "No population for zone:  24661694.0\n",
      "No population for zone:  24661729.0\n",
      "No population for zone:  24661778.0\n",
      "No population for zone:  24661801.0\n",
      "No population for zone:  24661872.0\n",
      "No population for zone:  24662067.0\n",
      "No population for zone:  24662115.0\n",
      "No population for zone:  24662247.0\n",
      "No population for zone:  24662658.0\n",
      "No population for zone:  24662942.0\n",
      "No population for zone:  24663142.0\n",
      "No population for zone:  24663271.0\n",
      "No population for zone:  24663282.0\n",
      "No population for zone:  24663329.0\n",
      "No population for zone:  24663334.0\n",
      "No population for zone:  24663335.0\n",
      "No population for zone:  24663339.0\n",
      "No population for zone:  24663340.0\n",
      "No population for zone:  24663351.0\n",
      "No population for zone:  24663370.0\n",
      "No population for zone:  24663381.0\n",
      "No population for zone:  24663382.0\n",
      "No population for zone:  24663396.0\n",
      "No population for zone:  24720154.0\n"
     ]
    }
   ],
   "source": [
    "personZoneCounts = np.empty([0,2])\n",
    "for i, zone in zoneSystem.iterrows():\n",
    "    row = profileData.loc[profileData['Geography']==zone['Zone']]\n",
    "    population = 0\n",
    "    try:\n",
    "        # if there is a population number for this zone\n",
    "        zonePopulation = row['Population'].astype(int).iloc[0]\n",
    "    except:\n",
    "        print('No population for zone: ', zone['Zone'])\n",
    "    \n",
    "    personZoneCounts = np.r_[personZoneCounts, [[zone['Zone'], zonePopulation]]]"
   ]
  },
  {
   "cell_type": "markdown",
   "metadata": {},
   "source": [
    "create persons as numpy array so it's faster"
   ]
  },
  {
   "cell_type": "code",
   "execution_count": 9,
   "metadata": {},
   "outputs": [],
   "source": [
    "@njit\n",
    "def createPersons(personCounts):\n",
    "    p = np.empty((0,10))\n",
    "    for zoneNum in range(personCounts.shape[0]):\n",
    "        numPeopleInZone = personCounts[zoneNum][1]\n",
    "        for person in range(numPeopleInZone):\n",
    "            age = np.random.randint(0,100)\n",
    "            gender = np.random.randint(0,2)\n",
    "            # 0:SINGLE 1:MARRIED 2:CHILD\n",
    "            relationship = 2 if age < 18 else np.random.randint(0, 2)\n",
    "            occupation = 0 if age < 4 \\\n",
    "                    else 4 if age > 65 \\\n",
    "                    else 3 if age < 22 \\\n",
    "                    else 1 if np.random.random() < .93 \\\n",
    "                    else 2\n",
    "            occupation_type = 1\n",
    "            workplace = -1\n",
    "            income=-1\n",
    "            if occupation==1:\n",
    "                income = employment_incomes[np.random.randint(0,int(totalPersons*.9))]\n",
    "            elif occupation==4:\n",
    "                income = retired_incomes[np.random.randint(0,int(totalPersons*.1))]\n",
    "            \n",
    "            schoolplace=-1\n",
    "            \n",
    "            p = np.append(p, np.array([[personZoneCounts[zoneNum][0], -1, age, gender, relationship, occupation, occupation_type, workplace, income, schoolplace]]), axis=0)\n",
    "        print(zoneNum)\n",
    "    return p\n",
    "    "
   ]
  },
  {
   "cell_type": "markdown",
   "metadata": {},
   "source": [
    "create dataframe from np array of persons"
   ]
  },
  {
   "cell_type": "code",
   "execution_count": null,
   "metadata": {},
   "outputs": [],
   "source": [
    "persons = pd.DataFrame(data=createPersons(personZoneCounts), columns=['id', 'hhId', 'age', 'gender', 'relationship', 'occupation', 'occupation_type', 'workplace', 'income', 'schoolplace'])"
   ]
  },
  {
   "cell_type": "markdown",
   "metadata": {},
   "source": [
    "add nationalities to persons df"
   ]
  },
  {
   "cell_type": "code",
   "execution_count": null,
   "metadata": {},
   "outputs": [],
   "source": [
    "persons['nationality'] = nats"
   ]
  },
  {
   "cell_type": "markdown",
   "metadata": {},
   "source": [
    "Old method to create persons"
   ]
  },
  {
   "cell_type": "code",
   "execution_count": null,
   "metadata": {},
   "outputs": [],
   "source": [
    "\n",
    "\n",
    "\n",
    "personCount = 0\n",
    "for i, zone in zoneSystem['Zone'].iterrows():\n",
    "    row = profileData.loc[profileData['Geography']==zone]\n",
    "    population = 0\n",
    "    try:\n",
    "        # if there is a population number for this zone\n",
    "        zonePopulation = row['Population'].astype(int).iloc[0]\n",
    "    except:\n",
    "        print('No population for zone: ', zone)\n",
    "    for numPerson in range(zonePopulation): # run for each person in the current zone\n",
    "        persons.loc[personCount, 'id'] = personCount # set the id of the current person. ID ranges from 0..totalPersons\n",
    "        persons.loc[personCount, 'hhId'] = -1 #set household to -1 for now, change later when we marry couples (c code so is faster)\n",
    "        age = random.randint(0, 100)\n",
    "        persons.loc[personCount, 'age'] = age\n",
    "        \n",
    "        persons.loc[personCount, 'gender'] = random.randint(0, 1)\n",
    "        persons.loc[personCount, 'relationship'] = 'CHILD' if age < 18 else ['SINGLE','MARRIED'][random.randint(0, 1)]\n",
    "        #0:toddler 1:employed 2:unemployed 3:Student 4:Retiree\n",
    "        employment_rate = -1\n",
    "        try:\n",
    "            employment_rate = row['Employment rate'].astype(float).iloc[i] # get employment rate for zone\n",
    "        except:\n",
    "            pass\n",
    "        occupation = \\\n",
    "                    0 if age < 4 \\\n",
    "                    else 4 if age > 65 \\\n",
    "                    else 3 if age < 25 \\\n",
    "                    else 1 if random.random() < employment_rate \\\n",
    "                    else 2\n",
    "        persons.loc[personCount, 'occupation'] = occupation\n",
    "        persons.loc[personCount, 'occupation_type'] = 1 #full-time employment\n",
    "        persons.loc[personCount, 'workplace'] = -1 #id of job, to be set later\n",
    "        persons.loc[personCount, 'income'] = salary_distribution_employed.rvs(1) if occupation==1 else salary_distribution_retired.rvs(1) if occupation==4 else 0.0\n",
    "        persons.loc[personCount, 'schoolplace'] = random.randint(0, 100) if occupation==3 else -1 # id of school if attending\n",
    "        persons.loc[personCount, 'nationality'] = nationalities_list[personCount]\n",
    "        personCount+=1\n",
    "\n",
    "\n",
    "    print(personCount,'/',totalPersons, 'in zone:', zone)\n"
   ]
  },
  {
   "cell_type": "code",
   "execution_count": null,
   "metadata": {},
   "outputs": [],
   "source": [
    "persons.to_csv('./pp_2006_.csv', index=False)"
   ]
  },
  {
   "cell_type": "markdown",
   "metadata": {},
   "source": [
    "<h1>CREATE DWELLINGS</h1>"
   ]
  },
  {
   "cell_type": "code",
   "execution_count": null,
   "metadata": {},
   "outputs": [],
   "source": [
    "dwelling_counts = pd.read_csv('/Users/lukeguardino/Documents/SILO_crap/MontrealZones/DwellingTypesByZone2006.csv')"
   ]
  },
  {
   "cell_type": "code",
   "execution_count": null,
   "metadata": {},
   "outputs": [],
   "source": [
    "dwellings = pd.DataFrame(columns=['id', 'zone', 'type', 'hhId', 'bedrooms', 'quality', 'monthlyCost', 'restriction', 'yearBuilt', 'floor', 'building', 'usage', 'coordX', 'coordY'])"
   ]
  },
  {
   "cell_type": "code",
   "execution_count": null,
   "metadata": {},
   "outputs": [],
   "source": [
    "dwelling_counts = dwelling_counts[dwelling_counts['Geography'].isin(zoneSystem['Zone'])]\n",
    "dwelling_counts = dwelling_counts.reset_index(drop=True)"
   ]
  },
  {
   "cell_type": "code",
   "execution_count": null,
   "metadata": {},
   "outputs": [],
   "source": [
    "polygons = []\n",
    "for i in range(zoneShape.shape[0]):\n",
    "    polygons.append(zoneShape.iloc[i]['geometry'])\n",
    "    \n",
    "geoseries = gpd.GeoSeries(polygons, dwelling_counts['Geography'])\n",
    "dwelling_coords = geoseries.sample_points(size=dwelling_counts['Total - Structural type of dwelling'].astype(float).astype(int))\n",
    "dwelling_coords = dwelling_coords.explode(index_parts=True)"
   ]
  },
  {
   "cell_type": "code",
   "execution_count": null,
   "metadata": {},
   "outputs": [],
   "source": [
    "total_dwelling_count_GMA = float(dwelling_counts['Total - Structural type of dwelling'].astype(float).sum())\n",
    "print(total_dwelling_count_GMA)"
   ]
  },
  {
   "cell_type": "code",
   "execution_count": null,
   "metadata": {},
   "outputs": [],
   "source": [
    "dwelling_number = 0\n",
    "for i,dwelling in dwelling_counts.iterrows():\n",
    "    numDwellings = int(float(dwelling['Total - Structural type of dwelling']))\n",
    "    starttime = time.time()\n",
    "    for j in range(numDwellings):\n",
    "        point = Point(float(dwelling_coords[dwelling['Geography']][j].x), float(dwelling_coords[dwelling['Geography']][j].y))\n",
    "        p1, p2 = nearest_points(point, roadNodes)\n",
    "\n",
    "        dwellings.loc[dwelling_number] = [dwelling_number, int(dwelling['Geography']), ['SFD', 'SFA', 'MF234', 'MF5plus', 'MH'][random.randint(0,4)], -1, -1, -1, -1, -1, -1, -1, -1, -1, p2.x, p2.y]\n",
    "        dwelling_number+=1\n",
    "    print(dwelling_number,'/',total_dwelling_count_GMA, '--- zone', dwelling['Geography'])\n"
   ]
  },
  {
   "cell_type": "markdown",
   "metadata": {},
   "source": [
    "<h1>CREATE JOBS</h1>"
   ]
  },
  {
   "cell_type": "markdown",
   "metadata": {},
   "source": [
    "CLEAN DATA"
   ]
  },
  {
   "cell_type": "code",
   "execution_count": null,
   "metadata": {},
   "outputs": [],
   "source": [
    "tmpJobData = pd.read_csv('./jobData.csv', encoding_errors='replace')\n",
    "for i in range(tmpJobData.shape[0]):\n",
    "    geog = str(tmpJobData.loc[i, 'Geography']).split(' ')[0]\n",
    "    try:\n",
    "        float(geog)\n",
    "        tmpJobData.loc[i, 'Geography'] = geog\n",
    "    except:\n",
    "        print('drop', geog)\n",
    "        \n",
    "\n",
    "tmpJobData.to_csv('./jobData_clean.csv', index=False)"
   ]
  },
  {
   "cell_type": "markdown",
   "metadata": {},
   "source": [
    "NEW DATAFRAME FOR JOBS"
   ]
  },
  {
   "cell_type": "code",
   "execution_count": null,
   "metadata": {},
   "outputs": [],
   "source": [
    "jobs = pd.DataFrame(columns=['id','zone','personId','type','coordX','coordY','startTime','duration'])"
   ]
  },
  {
   "cell_type": "markdown",
   "metadata": {},
   "source": [
    "READ CLEANED JOB DATA"
   ]
  },
  {
   "cell_type": "code",
   "execution_count": null,
   "metadata": {},
   "outputs": [],
   "source": [
    "zoneShape = gpd.read_file('/Users/lukeguardino/Documents/SILO_crap/MontrealZones/GreaterMontrealZones2006_2138.shp')"
   ]
  },
  {
   "cell_type": "code",
   "execution_count": null,
   "metadata": {},
   "outputs": [],
   "source": [
    "CT_job_data = pd.read_csv('./jobData_clean.csv', encoding_errors='replace', dtype=str)\n",
    "CT_job_data = CT_job_data[(CT_job_data['Total - Industry - Sectors - North American Industry Classification System (NAICS) 2017']!='..') & (CT_job_data['Total - Industry - Sectors - North American Industry Classification System (NAICS) 2017']!='x')]"
   ]
  },
  {
   "cell_type": "code",
   "execution_count": null,
   "metadata": {},
   "outputs": [
    {
     "data": {
      "text/plain": [
       "np.int64(3166035)"
      ]
     },
     "metadata": {},
     "output_type": "display_data"
    }
   ],
   "source": [
    "print(\"Total Jobs in area:\", float(CT_job_data['Total - Industry - Sectors - North American Industry Classification System (NAICS) 2017'].astype(int).sum()))"
   ]
  },
  {
   "cell_type": "markdown",
   "metadata": {},
   "source": [
    "EXPAND CT AREA JOB DATA FOR EACH DA"
   ]
  },
  {
   "cell_type": "code",
   "execution_count": null,
   "metadata": {},
   "outputs": [],
   "source": [
    "jobs_per_da = pd.DataFrame(columns=['DAUID', 'CTUID', 'numJobs'])\n",
    "for i, ct_area in CT_job_data.iterrows():\n",
    "    ct_area_jobs = int(ct_area['Total - Industry - Sectors - North American Industry Classification System (NAICS) 2017'])\n",
    "    da_areas = zoneShape.loc[zoneShape['CTUID']==ct_area['Geography'], 'DAUID']\n",
    "    for da_in_ct in da_areas:\n",
    "        da_jobs = int(ct_area_jobs/da_areas.shape[0])\n",
    "        jobs_per_da.loc[len(jobs_per_da)] = [da_in_ct, ct_area['Geography'], da_jobs]"
   ]
  },
  {
   "cell_type": "code",
   "execution_count": null,
   "metadata": {},
   "outputs": [
    {
     "name": "stdout",
     "output_type": "stream",
     "text": [
      "4999\n"
     ]
    }
   ],
   "source": [
    "polygons = []\n",
    "for i in range(zoneShape.shape[0]):\n",
    "    polygons.append(zoneShape.iloc[i]['geometry'])\n",
    "print(len(polygons))\n",
    "\n",
    "geoseries = gpd.GeoSeries(polygons, zoneShape['DAUID'])\n",
    "job_coords = geoseries.sample_points(size=jobs_per_da.sort_values(['DAUID'], ascending=True)['numJobs'].astype(int))\n",
    "job_coords = job_coords.explode(index_parts=True)"
   ]
  },
  {
   "cell_type": "code",
   "execution_count": null,
   "metadata": {},
   "outputs": [],
   "source": [
    "job_headers = [\"11 Agriculture, forestry, fishing and hunting\",\"21 Mining, quarrying, and oil and gas extraction\",'22 Utilities','23 Construction','31-33 Manufacturing','41 Wholesale trade','44-45 Retail trade','48-49 Transportation and warehousing','51 Information and cultural industries','52 Finance and insurance','53 Real estate and rental and leasing',\"54 Professional, scientific and technical services\",'55 Management of companies and enterprises',\"56 Administrative and support, waste management and remediation services\",'61 Educational services','62 Health care and social assistance',\"71 Arts, entertainment and recreation\",'72 Accommodation and food services','81 Other services (except public administration)','91 Public administration']"
   ]
  },
  {
   "cell_type": "markdown",
   "metadata": {},
   "source": [
    "CONVERT JobData.csv HEADER TYPES TO SILO TYPES"
   ]
  },
  {
   "cell_type": "code",
   "execution_count": null,
   "metadata": {},
   "outputs": [],
   "source": [
    "def translate_job_type(job_typ):\n",
    "    typ = ''\n",
    "    match job_typ:\n",
    "        case \"11 Agriculture, forestry, fishing and hunting\":\n",
    "            typ = 'Agri'\n",
    "        case \"21 Mining, quarrying, and oil and gas extraction\":\n",
    "            typ = 'Mnft'\n",
    "        case \"22 Utilities\":\n",
    "            typ = 'Util'\n",
    "        case \"23 Construction\":\n",
    "            typ = 'Cons'\n",
    "        case \"31-33 Manufacturing\":\n",
    "            typ = 'Mnft'\n",
    "        case \"41 Wholesale trade\":\n",
    "            typ = 'Serv'\n",
    "        case \"44-45 Retail trade\":\n",
    "            typ = 'Retl'\n",
    "        case \"48-49 Transportation and warehousing\":\n",
    "            typ = 'Trns'\n",
    "        case \"51 Information and cultural industries\":\n",
    "            typ = 'Serv'\n",
    "        case \"52 Finance and insurance\":\n",
    "            typ = 'Finc'\n",
    "        case \"53 Real estate and rental and leasing\":\n",
    "            typ = 'Rlst'\n",
    "        case \"54 Professional, scientific and technical services\":\n",
    "            typ = 'Serv'\n",
    "        case \"55 Management of companies and enterprises\":\n",
    "            typ = 'Admn'\n",
    "        case \"56 Administrative and support, waste management and remediation services\":\n",
    "            typ = 'Admn'\n",
    "        case \"61 Educational services\":\n",
    "            typ = 'Serv'\n",
    "        case \"62 Health care and social assistance\":\n",
    "            typ = 'Serv'\n",
    "        case \"71 Arts, entertainment and recreation\":\n",
    "            typ = 'Serv'\n",
    "        case \"72 Accommodation and food services\":\n",
    "            typ = 'Serv'\n",
    "        case \"81 Other services (except public administration)\":\n",
    "            typ = 'Serv'\n",
    "        case \"91 Public administration\":\n",
    "            typ = 'Admn'\n",
    "        case _:\n",
    "            pass\n",
    "    return typ\n"
   ]
  },
  {
   "cell_type": "markdown",
   "metadata": {},
   "source": [
    "SYNTHESIZE JOBS FOR EACH ZONE INCLUDED IN JobData.csv"
   ]
  },
  {
   "cell_type": "code",
   "execution_count": null,
   "metadata": {},
   "outputs": [],
   "source": [
    "jobs = pd.DataFrame(columns=['id','zone','personId','type','coordX','coordY','startTime','duration'])\n",
    "numJobs = 0\n",
    "total_jobs = CT_job_data['Total - Industry - Sectors - North American Industry Classification System (NAICS) 2017'].astype(float).sum()\n",
    "for i, ct_area in CT_job_data.iterrows():\n",
    "    ct_area_jobs = int(ct_area['Total - Industry - Sectors - North American Industry Classification System (NAICS) 2017'])\n",
    "    da_areas = zoneShape.loc[zoneShape['CTUID']==ct_area['Geography'], 'DAUID']\n",
    "    job_types = ct_area[job_headers]\n",
    "    try:\n",
    "        job_dist = random.choices(list(job_types.index), list(job_types.values.astype(int)), k=ct_area_jobs)\n",
    "    except:\n",
    "        print('no jobs in zone')\n",
    "    for da_in_ct in da_areas:\n",
    "        da_jobs = int(ct_area_jobs/len(da_areas))\n",
    "        for job_num in range(da_jobs):\n",
    "            # snap position to nearest road \n",
    "            point = Point(float(job_coords[da_in_ct][job_num].x), float(job_coords[da_in_ct][job_num].y))\n",
    "            \n",
    "            p1, p2 = nearest_points(point, roadNodes)\n",
    "            jobs.loc[len(jobs)] = [numJobs, da_in_ct, -1, translate_job_type(random.choice(job_dist)), p2.x, p2.y, 32400, 28800]\n",
    "            numJobs+=1\n",
    "    print(str(numJobs/total_jobs*100)+'%')\n",
    "\n",
    "jobs.to_csv('./jj_2006.csv', index=False)"
   ]
  },
  {
   "cell_type": "markdown",
   "metadata": {},
   "source": [
    "<span style=\"font-size:5em;\">DATA LINKING</span>"
   ]
  },
  {
   "cell_type": "markdown",
   "metadata": {},
   "source": [
    "INITIAL DATA READ"
   ]
  },
  {
   "cell_type": "code",
   "execution_count": null,
   "metadata": {},
   "outputs": [],
   "source": [
    "dwellings_file = 'testOutput/dd_2006.csv'\n",
    "jobs_file = './jj_2006_2138_snapped.csv'\n",
    "persons_file = 'testOutput/pp_2006.csv'"
   ]
  },
  {
   "cell_type": "code",
   "execution_count": null,
   "metadata": {},
   "outputs": [],
   "source": [
    "dwellings = pd.read_csv(dwellings_file)\n",
    "d_cols = dwellings.columns\n",
    "d = lambda x: d_cols.get_loc(x)\n",
    "dwellings:np.ndarray = dwellings.values\n",
    "\n",
    "jobs = pd.read_csv(jobs_file, usecols=['id','zone','personId','coordX','coordY','startTime','duration'], dtype=np.float32)\n",
    "job_types = pd.read_csv(jobs_file, usecols=['type'])\n",
    "j_cols = jobs.columns\n",
    "j = lambda x: j_cols.get_loc(x)\n",
    "jobs:np.ndarray = jobs.values\n",
    "\n",
    "persons = pd.read_csv(persons_file)\n",
    "nats = persons['nationality']\n",
    "p_cols = persons.columns[:-1]\n",
    "p = lambda x: p_cols.get_loc(x)\n",
    "persons:np.ndarray = persons[p_cols].values\n",
    "for i in range(len(persons)):\n",
    "    rel = persons[i][4]\n",
    "    res = -1\n",
    "    if rel=='SINGLE': \n",
    "        res=0\n",
    "    elif rel=='MARRIED': res=1\n",
    "    elif rel=='CHILD': res=2\n",
    "    persons[i][4] = res\n",
    "persons = persons.astype(np.float32)\n",
    "\n",
    "households = pd.DataFrame(columns=['id', 'dwelling', 'hhSize', 'autos'], dtype=int)\n",
    "h_cols = households.columns\n",
    "h = lambda x: h_cols.get_loc(x)\n",
    "households:np.ndarray = households.values\n"
   ]
  },
  {
   "cell_type": "markdown",
   "metadata": {},
   "source": [
    "NUMBA FUNCTIONS"
   ]
  },
  {
   "cell_type": "code",
   "execution_count": null,
   "metadata": {},
   "outputs": [],
   "source": [
    "@jit(nopython=True)\n",
    "def findPartner(n, person):\n",
    "    for i in range(n, persons.shape[0]):\n",
    "        if persons[i][4]==1 and persons[i][1]==-1 and \\\n",
    "                                        abs(person[2] - persons[i][2]) < 10:\n",
    "            # print(person[0], 'married to ', persons[i][0])\n",
    "            return persons[i]\n",
    "    return None"
   ]
  },
  {
   "cell_type": "code",
   "execution_count": null,
   "metadata": {},
   "outputs": [],
   "source": [
    "@jit(nopython=True)\n",
    "def firstLonelyChild(n):\n",
    "    for i in range(n, persons.shape[0]):\n",
    "        if persons[i][1]==-1 and persons[i][4]==2:\n",
    "            lastIndex = i\n",
    "            return int(persons[i][0])"
   ]
  },
  {
   "cell_type": "code",
   "execution_count": null,
   "metadata": {},
   "outputs": [],
   "source": [
    "@jit(nopython=True)\n",
    "def nextUnhousedPerson(n):\n",
    "    for i in range(n, persons.shape[0]):\n",
    "        if persons[i][1]==-1:\n",
    "            return int(persons[i][0])"
   ]
  },
  {
   "cell_type": "code",
   "execution_count": null,
   "metadata": {},
   "outputs": [],
   "source": [
    "@jit(nopython=True)\n",
    "def getNextJob(n):\n",
    "    for i in range(n, jobs.shape[0]):\n",
    "        if jobs[i][2] == -1:\n",
    "            return jobs[i][0]"
   ]
  },
  {
   "cell_type": "markdown",
   "metadata": {},
   "source": [
    "HOUSEHOLD SYNTHESIS"
   ]
  },
  {
   "cell_type": "markdown",
   "metadata": {},
   "source": [
    "for each dwelling\n",
    "- create a household\n",
    "  - has either a single person and 0-1 kids\n",
    "  - OR married couple with 0-2 kids\n",
    "- "
   ]
  },
  {
   "cell_type": "code",
   "execution_count": null,
   "metadata": {},
   "outputs": [],
   "source": [
    "personNum = 0\n",
    "lastChildIndex = 0\n",
    "err = 1\n",
    "for i, dwelling in enumerate(dwellings): # for each dwelling\n",
    "    hhId = i\n",
    "    if persons[personNum][1]==-1: # if current person is unhoused\n",
    "        person = persons[personNum] # random.randint(0, len(persons)-1)\n",
    "        personNum += 1\n",
    "    else:\n",
    "        next = nextUnhousedPerson(personNum) # skip to the index of the next unhoused person to save time\n",
    "        if next == None:\n",
    "            err=2\n",
    "            break\n",
    "        person = persons[next]\n",
    "        personNum = int(person[0])\n",
    "    persons[personNum][p('hhId')] = hhId\n",
    "    hhSize = 1\n",
    "    numKids=0\n",
    "    if person[p('relationship')]==1: # married\n",
    "        partner = findPartner(int(personNum), person)\n",
    "        if partner == None: # can't find partner for person\n",
    "            persons[personNum][p('relationship')]=0 # set person to single\n",
    "            numKids = random.randint(0,1)\n",
    "            hhSize += numKids\n",
    "        else:  \n",
    "            persons[int(partner[0])][1] = hhId\n",
    "            numKids = random.randint(0,3)\n",
    "            hhSize += numKids+1\n",
    "\n",
    "        for j in range(numKids):\n",
    "            child_ind = firstLonelyChild(lastChildIndex)\n",
    "            if child_ind != None:\n",
    "                persons[child_ind][1] = hhId\n",
    "                lastChildIndex = child_ind\n",
    "        \n",
    "\n",
    "    elif person[p('relationship')]==0: # single\n",
    "        numKids=random.randint(0,1)\n",
    "        if numKids>0:\n",
    "            child_ind = firstLonelyChild(lastChildIndex)\n",
    "            if child_ind != None:\n",
    "                persons[child_ind][1] = hhId\n",
    "                lastChildIndex = child_ind\n",
    "        hhSize += numKids\n",
    "\n",
    "    households = np.r_[households, [[hhId, dwelling[d('id')], hhSize, random.randint(0,hhSize-numKids)]]]\n",
    "    dwellings[i][d('hhId')] = hhId\n",
    "\n",
    "    if i%10000==0:\n",
    "        print(i)\n",
    "    if i%150000==0:\n",
    "        num=int(i/150000)\n",
    "        print('writing to file:', num)\n",
    "        pd.DataFrame(data=households, columns=h_cols).astype(int).to_csv('./testOutput/hh_2006_'+str(num)+'.csv', index=False)\n",
    "        households = np.empty([0,4])\n",
    "\n",
    "if err==1:\n",
    "    print(\"Exhausted Dwellings\")\n",
    "elif err==2:\n",
    "    print(\"Exhausted Persons\")\n"
   ]
  },
  {
   "cell_type": "code",
   "execution_count": null,
   "metadata": {},
   "outputs": [],
   "source": [
    "lastJobIndex = 0\n",
    "for i in range(len(persons)):\n",
    "    job = getNextJob(lastJobIndex)\n",
    "    print('person', i, 'job', job)\n",
    "    if job != None:\n",
    "        persons[i][7] = job\n",
    "        jobs[int(job)][2] = persons[i][0]\n",
    "        lastJobIndex = int(job)\n",
    "    else:\n",
    "        print('no more jobs')\n",
    "        break\n",
    "\n",
    "    if i%10000==0:\n",
    "        print('person: ', i)"
   ]
  },
  {
   "cell_type": "code",
   "execution_count": null,
   "metadata": {},
   "outputs": [],
   "source": [
    "outputPersons = pd.DataFrame(data=persons, columns=p_cols)\n",
    "outputPersons['nationality'] = nats\n",
    "outputPersons['relationship'] = outputPersons['relationship'].apply(lambda r: 'SINGLE' if r==0 else 'MARRIED' if r==1 else 'CHILD' if r==2 else -1)"
   ]
  },
  {
   "cell_type": "markdown",
   "metadata": {},
   "source": [
    "<h1>CREATE DEVELOPMENT FILE</h1>"
   ]
  },
  {
   "cell_type": "markdown",
   "metadata": {},
   "source": [
    "READ DWELLING COUNTS FROM FILE"
   ]
  },
  {
   "cell_type": "markdown",
   "metadata": {},
   "source": [
    "<small>Read and filtered above in dwelling synthesis</small>"
   ]
  },
  {
   "cell_type": "code",
   "execution_count": null,
   "metadata": {},
   "outputs": [],
   "source": [
    "development = pd.DataFrame(columns=['Zone','SFD','SFA','MF234','MF5plus','MH','DevCapacity','DevLandUse'])\n",
    "\n",
    "for i, row in zoneSystem.iterrows():\n",
    "    cap = 200\n",
    "    landUse = 0.31\n",
    "    if str(int(row['Zone'])) in dwelling_counts['Geography'].astype(str).values:\n",
    "        print('in')\n",
    "        cap = int(float(dwelling_counts.loc[dwelling_counts['Geography'].astype(str) == str(int(row['Zone'])), 'Total - Structural type of dwelling'].iloc[0]))\n",
    "        landUse = float(row['Area'])\n",
    "    development.loc[len(development)] = [int(row['Zone']), 1, 1, 1, 1, 1, cap*1.2, landUse*2.47]"
   ]
  },
  {
   "cell_type": "code",
   "execution_count": 39,
   "metadata": {},
   "outputs": [
    {
     "data": {
      "text/html": [
       "<div>\n",
       "<style scoped>\n",
       "    .dataframe tbody tr th:only-of-type {\n",
       "        vertical-align: middle;\n",
       "    }\n",
       "\n",
       "    .dataframe tbody tr th {\n",
       "        vertical-align: top;\n",
       "    }\n",
       "\n",
       "    .dataframe thead th {\n",
       "        text-align: right;\n",
       "    }\n",
       "</style>\n",
       "<table border=\"1\" class=\"dataframe\">\n",
       "  <thead>\n",
       "    <tr style=\"text-align: right;\">\n",
       "      <th></th>\n",
       "      <th>Zone</th>\n",
       "      <th>SFD</th>\n",
       "      <th>SFA</th>\n",
       "      <th>MF234</th>\n",
       "      <th>MF5plus</th>\n",
       "      <th>MH</th>\n",
       "      <th>DevCapacity</th>\n",
       "      <th>DevLandUse</th>\n",
       "    </tr>\n",
       "  </thead>\n",
       "  <tbody>\n",
       "    <tr>\n",
       "      <th>0</th>\n",
       "      <td>24550077.0</td>\n",
       "      <td>1.0</td>\n",
       "      <td>1.0</td>\n",
       "      <td>1.0</td>\n",
       "      <td>1.0</td>\n",
       "      <td>1.0</td>\n",
       "      <td>216.0</td>\n",
       "      <td>0.872404</td>\n",
       "    </tr>\n",
       "    <tr>\n",
       "      <th>1</th>\n",
       "      <td>24550078.0</td>\n",
       "      <td>1.0</td>\n",
       "      <td>1.0</td>\n",
       "      <td>1.0</td>\n",
       "      <td>1.0</td>\n",
       "      <td>1.0</td>\n",
       "      <td>210.0</td>\n",
       "      <td>0.270465</td>\n",
       "    </tr>\n",
       "    <tr>\n",
       "      <th>2</th>\n",
       "      <td>24550079.0</td>\n",
       "      <td>1.0</td>\n",
       "      <td>1.0</td>\n",
       "      <td>1.0</td>\n",
       "      <td>1.0</td>\n",
       "      <td>1.0</td>\n",
       "      <td>372.0</td>\n",
       "      <td>0.716794</td>\n",
       "    </tr>\n",
       "    <tr>\n",
       "      <th>3</th>\n",
       "      <td>24550080.0</td>\n",
       "      <td>1.0</td>\n",
       "      <td>1.0</td>\n",
       "      <td>1.0</td>\n",
       "      <td>1.0</td>\n",
       "      <td>1.0</td>\n",
       "      <td>354.0</td>\n",
       "      <td>0.889447</td>\n",
       "    </tr>\n",
       "    <tr>\n",
       "      <th>4</th>\n",
       "      <td>24550081.0</td>\n",
       "      <td>1.0</td>\n",
       "      <td>1.0</td>\n",
       "      <td>1.0</td>\n",
       "      <td>1.0</td>\n",
       "      <td>1.0</td>\n",
       "      <td>330.0</td>\n",
       "      <td>13.994032</td>\n",
       "    </tr>\n",
       "  </tbody>\n",
       "</table>\n",
       "</div>"
      ],
      "text/plain": [
       "         Zone  SFD  SFA  MF234  MF5plus   MH  DevCapacity  DevLandUse\n",
       "0  24550077.0  1.0  1.0    1.0      1.0  1.0        216.0    0.872404\n",
       "1  24550078.0  1.0  1.0    1.0      1.0  1.0        210.0    0.270465\n",
       "2  24550079.0  1.0  1.0    1.0      1.0  1.0        372.0    0.716794\n",
       "3  24550080.0  1.0  1.0    1.0      1.0  1.0        354.0    0.889447\n",
       "4  24550081.0  1.0  1.0    1.0      1.0  1.0        330.0   13.994032"
      ]
     },
     "execution_count": 39,
     "metadata": {},
     "output_type": "execute_result"
    }
   ],
   "source": [
    "development = development.astype({'Zone': 'int64', 'SFD': 'int64', 'SFA': 'int64', 'MF234': 'int64', 'MF5plus': 'int64', 'MH': 'int64', 'DevCapacity': 'int64'})"
   ]
  },
  {
   "cell_type": "code",
   "execution_count": 40,
   "metadata": {},
   "outputs": [],
   "source": [
    "development.to_csv('./development.csv', index=False)"
   ]
  }
 ],
 "metadata": {
  "kernelspec": {
   "display_name": ".venv",
   "language": "python",
   "name": "python3"
  },
  "language_info": {
   "codemirror_mode": {
    "name": "ipython",
    "version": 3
   },
   "file_extension": ".py",
   "mimetype": "text/x-python",
   "name": "python",
   "nbconvert_exporter": "python",
   "pygments_lexer": "ipython3",
   "version": "3.12.2"
  }
 },
 "nbformat": 4,
 "nbformat_minor": 2
}
